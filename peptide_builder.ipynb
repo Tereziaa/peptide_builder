{
  "cells": [
    {
      "cell_type": "code",
      "execution_count": 1,
      "metadata": {
        "colab": {
          "base_uri": "https://localhost:8080/"
        },
        "id": "WrxWTSjLAPt5",
        "outputId": "fd5979e8-3d1b-4186-e3bf-10427f9bdc78"
      },
      "outputs": [],
      "source": [
        "#!pip install rdkit\n"
      ]
    },
    {
      "cell_type": "code",
      "execution_count": 2,
      "metadata": {
        "id": "_wDnSzaTAmt0"
      },
      "outputs": [],
      "source": [
        "from rdkit import Chem\n",
        "from rdkit.Chem import AllChem\n",
        "from rdkit.Chem import Draw"
      ]
    },
    {
      "cell_type": "code",
      "execution_count": 3,
      "metadata": {
        "id": "QWOKTIzIA3eA"
      },
      "outputs": [],
      "source": [
        "amino_acids = {\n",
        "    \"Gly\": \"NCC(=O)O\",\n",
        "    \"Ala\": \"CC(C(=O)O)N\",\n",
        "    \"Val\": \"CC(C)C(C(=O)O)N\",\n",
        "    \"Leu\": \"CC(C)CC(C(=O)O)N\",\n",
        "    \"Ile\": \"CC(C)C(C(=O)O)N\",\n",
        "    \"Met\": \"CSCC(C(=O)O)N\",\n",
        "    \"Phe\": \"C1=CC=CC=C1CC(C(=O)O)N\",\n",
        "    \"Tyr\": \"OC1=CC=C(C=C1)CC(C(=O)O)N\",\n",
        "    \"Trp\": \"C1=CC=C2C(=C1)C=CN2CC(C(=O)O)N\",\n",
        "    \"Ser\": \"C(C(C(=O)O)N)O\",\n",
        "    \"Thr\": \"CC(O)C(C(=O)O)N\",\n",
        "    \"Cys\": \"C(C(C(=O)O)N)S\",\n",
        "    \"Asn\": \"NC(C(=O)O)C(=O)N\",\n",
        "    \"Gln\": \"NC(CCC(=O)O)C(=O)N\",\n",
        "    \"Asp\": \"NC(C(=O)O)C(=O)O\",\n",
        "    \"Glu\": \"NC(CCC(=O)O)C(=O)O\",\n",
        "    \"Lys\": \"NCCCC(C(=O)O)N\",\n",
        "    \"Arg\": \"NC(CCCNC(N)=N)C(=O)O\",\n",
        "    \"His\": \"NC(C(=O)O)CC1=CN=CN1\",\n",
        "    \"Pro\": \"C1CC(N)CC1C(=O)O\"\n",
        "}"
      ]
    },
    {
      "cell_type": "code",
      "execution_count": 4,
      "metadata": {
        "id": "4Hay5a6aFwNH"
      },
      "outputs": [],
      "source": [
        "AA = {\n",
        "    \"A\": \"Ala\", \"R\": \"Arg\", \"N\": \"Asn\", \"D\": \"Asp\", \"C\": \"Cys\",\n",
        "    \"Q\": \"Gln\", \"E\": \"Glu\", \"G\": \"Gly\", \"H\": \"His\", \"I\": \"Ile\",\n",
        "    \"L\": \"Leu\", \"K\": \"Lys\", \"M\": \"Met\", \"F\": \"Phe\", \"P\": \"Pro\",\n",
        "    \"S\": \"Ser\", \"T\": \"Thr\", \"W\": \"Trp\", \"Y\": \"Tyr\", \"V\": \"Val\"\n",
        "}\n",
        "\n",
        "AA_reversed = {v: k for k, v in AA.items()}"
      ]
    },
    {
      "cell_type": "code",
      "execution_count": 5,
      "metadata": {
        "id": "LC86-shaF7wO"
      },
      "outputs": [],
      "source": [
        "def AA_to_amino_acids(sequence):\n",
        "  divided = list(sequence.upper())\n",
        "\n",
        "  three_code = []\n",
        "  for letter in divided:\n",
        "    name = AA.get(letter)\n",
        "    three_code.append(name)\n",
        "\n",
        "  return three_code\n"
      ]
    },
    {
      "cell_type": "code",
      "execution_count": 6,
      "metadata": {
        "id": "rSbNmJK8BZh-"
      },
      "outputs": [],
      "source": [
        "peptide_formation = AllChem.ReactionFromSmarts(\"[C:1](=[O:2])[O:3].[N:4]>>[C:1](=[O:2])[N:4]\")"
      ]
    },
    {
      "cell_type": "code",
      "execution_count": 7,
      "metadata": {
        "id": "PBIkd01hCBto"
      },
      "outputs": [],
      "source": [
        "def build_peptide(sequence):\n",
        "\n",
        "  mol = Chem.MolFromSmiles(amino_acids[sequence[0]])\n",
        "\n",
        "  for aa in sequence[1:]:\n",
        "    next_mol = Chem.MolFromSmiles(amino_acids[aa])\n",
        "    products = peptide_formation.RunReactants((mol, next_mol))\n",
        "\n",
        "    if products:\n",
        "        mol = products[0][0]\n",
        "\n",
        "  return mol"
      ]
    },
    {
      "cell_type": "code",
      "execution_count": 8,
      "metadata": {
        "id": "ApjK0wjgRtlX"
      },
      "outputs": [],
      "source": [
        "def peptide_smiles(seqeunce):\n",
        "  mol = build_peptide(seqeunce)\n",
        "  return Chem.MolToSmiles(mol)"
      ]
    },
    {
      "cell_type": "code",
      "execution_count": 9,
      "metadata": {
        "id": "RVuUkXRhSvlv"
      },
      "outputs": [],
      "source": [
        "def peptide_structure(sequence):\n",
        "  mol = build_peptide(sequence)\n",
        "  return Draw.MolToImage(mol)"
      ]
    },
    {
      "cell_type": "code",
      "execution_count": 13,
      "metadata": {
        "colab": {
          "base_uri": "https://localhost:8080/",
          "height": 369
        },
        "id": "Wj4Dz1jvT3mi",
        "outputId": "f5616e64-7b52-4d86-f12a-d39fe5782248"
      },
      "outputs": [
        {
          "name": "stdout",
          "output_type": "stream",
          "text": [
            "Three-letter code: Lys-Lys.\n",
            "NCCCC(N)C(=O)NCCCC(N)C(=O)O\n"
          ]
        },
        {
          "data": {
            "image/jpeg": "[encoded data removed]",
            "image/png": "[encoded data removed]",
            "text/plain": [
              "<PIL.PngImagePlugin.PngImageFile image mode=RGB size=300x300>"
            ]
          },
          "execution_count": 13,
          "metadata": {},
          "output_type": "execute_result"
        }
      ],
      "source": [
        "#For one-letter code\n",
        "AA_code = input(\"Insert one-letter code for peptide: \")\n",
        "peptide = AA_to_amino_acids(AA_code)\n",
        "print(f'Three-letter code: {\"-\".join(peptide)}.')\n",
        "print(peptide_smiles(peptide))\n",
        "peptide_structure(peptide)"
      ]
    },
    {
      "cell_type": "code",
      "execution_count": null,
      "metadata": {
        "colab": {
          "base_uri": "https://localhost:8080/",
          "height": 369
        },
        "id": "1mpbpmHk6Uud",
        "outputId": "271aa112-7d12-492d-b67e-8c9bdb4104ee"
      },
      "outputs": [
        {
          "name": "stdout",
          "output_type": "stream",
          "text": [
            "One-letter code: DF.\n",
            "NC(C(=O)O)C(=O)NC(Cc1ccccc1)C(=O)O\n"
          ]
        },
        {
          "data": {
            "image/jpeg": "[encoded data removed]",
            "image/png": "[encoded data removed]",
            "text/plain": [
              "<PIL.PngImagePlugin.PngImageFile image mode=RGB size=300x300>"
            ]
          },
          "execution_count": 11,
          "metadata": {},
          "output_type": "execute_result"
        }
      ],
      "source": [
        "#For three-letter code\n",
        "amino_acid_code = input(\"Insert three-letter code for peptide: \")\n",
        "peptide = amino_acid_code.split(\"-\")\n",
        "to_AA_code = []\n",
        "for item in peptide:\n",
        "  amac = AA_reversed.get(item)\n",
        "  to_AA_code.append(amac)\n",
        "print(f\"One-letter code: {''.join(to_AA_code)}.\")\n",
        "print(peptide_smiles(peptide))\n",
        "peptide_structure(peptide)"
      ]
    }
  ],
  "metadata": {
    "colab": {
      "provenance": []
    },
    "kernelspec": {
      "display_name": "Python 3",
      "name": "python3"
    },
    "language_info": {
      "codemirror_mode": {
        "name": "ipython",
        "version": 3
      },
      "file_extension": ".py",
      "mimetype": "text/x-python",
      "name": "python",
      "nbconvert_exporter": "python",
      "pygments_lexer": "ipython3",
      "version": "3.13.0"
    }
  },
  "nbformat": 4,
  "nbformat_minor": 0
}
